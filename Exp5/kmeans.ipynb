{
 "cells": [
  {
   "cell_type": "code",
   "execution_count": 48,
   "metadata": {},
   "outputs": [],
   "source": [
    "from collections import defaultdict\n",
    "import sklearn\n",
    "from sklearn import datasets\n",
    "from sklearn.utils import shuffle\n",
    "from copy import deepcopy\n",
    "import numpy as np\n",
    "import pandas as pd\n",
    "from matplotlib import pyplot as plt\n",
    "from collections import defaultdict\n"
   ]
  },
  {
   "cell_type": "code",
   "execution_count": 46,
   "metadata": {},
   "outputs": [],
   "source": [
    "def distance(x1,y1,x2,y2):\n",
    "    return np.sqrt((x1-x2)**2 + (y1-y2)**2)"
   ]
  },
  {
   "cell_type": "code",
   "execution_count": 49,
   "metadata": {},
   "outputs": [],
   "source": [
    "def predict(iris,k,target,iter):\n",
    "    n = len(iris)\n",
    "    centroid = defaultdict(list)\n",
    "    # iris,target = shuffle(iris,target)\n",
    "    for i in range(k):\n",
    "        centroid[i].append(iris[i])\n",
    "    clusters = k\n",
    "    assign = []\n",
    "    for i in range(len(iris)):\n",
    "        assign.append(0)\n",
    "    for j in range(iter):\n",
    "        counter=j\n",
    "        old_centroid = deepcopy(centroid)\n",
    "        neighbours = defaultdict(list)\n",
    "        for i_ind,i in enumerate(iris):\n",
    "            dist=1e18\n",
    "            centr = 0\n",
    "            for ind,k in old_centroid.items():\n",
    "                p = distance(i[0],i[1],k[0][0],k[0][1])\n",
    "                if dist>p:\n",
    "                    dist=p\n",
    "                    centr=ind\n",
    "            neighbours[centr].append(i)\n",
    "            assign[i_ind] = centr\n",
    "        centroid.clear()\n",
    "        for i in range(clusters):\n",
    "            p = neighbours[i]\n",
    "            s = len(p)\n",
    "            x=0\n",
    "            y=0\n",
    "            for j in p:\n",
    "                x+=j[0]\n",
    "                y+=j[1]\n",
    "            if s != 0:\n",
    "                centroid[i].append([x/s,y/s])\n",
    "            else:\n",
    "                centroid[i].append([0,0])\n",
    "    colors=['orange', 'blue', 'green']\n",
    "    for i in range(n):\n",
    "        plt.scatter(iris[i, 0], iris[i,1], s=7, color = colors[int(assign[i])])\n",
    "    for i in range(clusters):\n",
    "        plt.scatter(centroid[i][0][0], centroid[i][0][1], marker='*', c='g', s=200)\n",
    "    plt.xlabel('sepal width')\n",
    "    plt.ylabel('petal length')"
   ]
  },
  {
   "cell_type": "code",
   "execution_count": 50,
   "metadata": {},
   "outputs": [
    {
     "data": {
      "image/png": "[encoded data removed]",
      "text/plain": [
       "<Figure size 432x288 with 1 Axes>"
      ]
     },
     "metadata": {
      "needs_background": "light"
     },
     "output_type": "display_data"
    }
   ],
   "source": [
    "iris  = datasets.load_iris()\n",
    "x = iris.data[:,1:3] # taking only the sepal length and sepal width as features\n",
    "y = iris.target # storing the target variables here\n",
    "predict(x,3,y,125)"
   ]
  },
  {
   "cell_type": "code",
   "execution_count": null,
   "metadata": {},
   "outputs": [],
   "source": []
  }
 ],
 "metadata": {
  "interpreter": {
   "hash": "c6e4e9f98eb68ad3b7c296f83d20e6de614cb42e90992a65aa266555a3137d0d"
  },
  "kernelspec": {
   "display_name": "Python 3.9.7 64-bit ('base': conda)",
   "language": "python",
   "name": "python3"
  },
  "language_info": {
   "codemirror_mode": {
    "name": "ipython",
    "version": 3
   },
   "file_extension": ".py",
   "mimetype": "text/x-python",
   "name": "python",
   "nbconvert_exporter": "python",
   "pygments_lexer": "ipython3",
   "version": "3.9.7"
  },
  "orig_nbformat": 4
 },
 "nbformat": 4,
 "nbformat_minor": 2
}
