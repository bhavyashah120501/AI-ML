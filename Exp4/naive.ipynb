{
 "cells": [
  {
   "cell_type": "code",
   "execution_count": 1,
   "metadata": {},
   "outputs": [],
   "source": [
    "import numpy as np\n",
    "import pandas as pd\n",
    "\n",
    "prior={}\n",
    "marginal={}\n",
    "likelihood={}\n"
   ]
  },
  {
   "cell_type": "code",
   "execution_count": 2,
   "metadata": {},
   "outputs": [],
   "source": [
    "def pre_process(df):\n",
    "    X = df.drop([df.columns[-1]],axis=1)\n",
    "    y = df[df.columns[-1]]\n",
    "    return X,y"
   ]
  },
  {
   "cell_type": "code",
   "execution_count": 18,
   "metadata": {},
   "outputs": [],
   "source": [
    "def fit(X,y):\n",
    "    for i in np.unique(y):\n",
    "        prior[i] = sum(y == i)/y.shape[0]\n",
    "    print(\"prior\")\n",
    "    print(prior)\n",
    "    for i in X.columns:\n",
    "        for j in np.unique(X[i]):\n",
    "            marginal[j]= sum(X[i] == j)/X.shape[0] \n",
    "    print(\"marginal\")\n",
    "    print(marginal)\n",
    "    for i in np.unique(y):\n",
    "        likelihood[i] = {}\n",
    "        z = X[y==i]\n",
    "        for j in X.columns:\n",
    "            likelihood[i][j] = {}\n",
    "            for k in np.unique(X[j]):\n",
    "                likelihood[i][k] = 0\n",
    "        for j in z.columns:\n",
    "            for k in np.unique(z[j]):\n",
    "                likelihood[i][k] = sum(z[j] == k)/z.shape[0]\n",
    "    print(\"likelihood\")\n",
    "    print(likelihood)"
   ]
  },
  {
   "cell_type": "code",
   "execution_count": 33,
   "metadata": {},
   "outputs": [],
   "source": [
    "def predict(df):\n",
    "    answer=[]\n",
    "    for i,j in df.iterrows():\n",
    "        print(j[\"Outlook\"]+ \" \" + j[\"Temp\"]+\" \"+j[\"Humidity\"]+\" \"+j[\"Windy\"])\n",
    "        print(\"for yes\",end=\" \")\n",
    "        y = \"yes\"\n",
    "        ans= (likelihood[y][j[\"Outlook\"]]*likelihood[y][j[\"Temp\"]]*likelihood[y][j[\"Humidity\"]]*likelihood[y][j[\"Windy\"]]*prior[y])/(marginal[j[\"Outlook\"]]*marginal[j[\"Temp\"]]*marginal[j[\"Humidity\"]]*marginal[j[\"Windy\"]])\n",
    "        print(ans)\n",
    "        print(\"for no\",end=\" \")\n",
    "        y = \"no\"\n",
    "        ans2 = (likelihood[y][j[\"Outlook\"]]*likelihood[y][j[\"Temp\"]]*likelihood[y][j[\"Humidity\"]]*likelihood[y][j[\"Windy\"]]*prior[y])/(marginal[j[\"Outlook\"]]*marginal[j[\"Temp\"]]*marginal[j[\"Humidity\"]]*marginal[j[\"Windy\"]])\n",
    "        print(ans2)\n",
    "        if ans>ans2:\n",
    "            answer.append(\"yes\")\n",
    "            print(\"they will play\")\n",
    "        else:            \n",
    "            answer.append(\"no\")\n",
    "            print(\"they won't play\")\n",
    "\n",
    "    return answer\n"
   ]
  },
  {
   "cell_type": "code",
   "execution_count": 7,
   "metadata": {},
   "outputs": [],
   "source": [
    "df = pd.read_table(\"weather.txt\")\n",
    "X,y = pre_process(df)"
   ]
  },
  {
   "cell_type": "code",
   "execution_count": 19,
   "metadata": {},
   "outputs": [
    {
     "name": "stdout",
     "output_type": "stream",
     "text": [
      "prior\n",
      "{'no': 0.35714285714285715, 'yes': 0.6428571428571429}\n",
      "marginal\n",
      "{'Overcast': 0.2857142857142857, 'Rainy': 0.35714285714285715, 'Sunny': 0.35714285714285715, 'Cool': 0.2857142857142857, 'Hot': 0.2857142857142857, 'Mild': 0.42857142857142855, 'High': 0.5, 'Normal': 0.5, 'f': 0.5714285714285714, 't': 0.42857142857142855}\n",
      "likelihood\n",
      "{'no': {'Outlook': {}, 'Overcast': 0, 'Rainy': 0.6, 'Sunny': 0.4, 'Temp': {}, 'Cool': 0.2, 'Hot': 0.4, 'Mild': 0.4, 'Humidity': {}, 'High': 0.8, 'Normal': 0.2, 'Windy': {}, 'f': 0.4, 't': 0.6}, 'yes': {'Outlook': {}, 'Overcast': 0.4444444444444444, 'Rainy': 0.2222222222222222, 'Sunny': 0.3333333333333333, 'Temp': {}, 'Cool': 0.3333333333333333, 'Hot': 0.2222222222222222, 'Mild': 0.4444444444444444, 'Humidity': {}, 'High': 0.3333333333333333, 'Normal': 0.6666666666666666, 'Windy': {}, 'f': 0.6666666666666666, 't': 0.3333333333333333}}\n"
     ]
    }
   ],
   "source": [
    "fit(X,y)"
   ]
  },
  {
   "cell_type": "code",
   "execution_count": 36,
   "metadata": {},
   "outputs": [
    {
     "name": "stdout",
     "output_type": "stream",
     "text": [
      "Rainy Hot High f\n",
      "for yes 0.24197530864197528\n",
      "for no 0.9408000000000001\n",
      "they won't play\n",
      "Rainy Hot High t\n",
      "for yes 0.1613168724279835\n",
      "for no 1.8816\n",
      "they won't play\n",
      "Overcast Hot High f\n",
      "for yes 0.6049382716049383\n",
      "for no 0.0\n",
      "they will play\n",
      "Sunny Mild High f\n",
      "for yes 0.4839506172839506\n",
      "for no 0.41813333333333347\n",
      "they will play\n",
      "Sunny Cool Normal f\n",
      "for yes 1.0888888888888888\n",
      "for no 0.07840000000000003\n",
      "they will play\n",
      "Sunny Cool Normal t\n",
      "for yes 0.7259259259259259\n",
      "for no 0.15680000000000005\n",
      "they will play\n",
      "Overcast Cool Normal t\n",
      "for yes 1.2098765432098766\n",
      "for no 0.0\n",
      "they will play\n",
      "Rainy Mild High f\n",
      "for yes 0.322633744855967\n",
      "for no 0.6272000000000001\n",
      "they won't play\n",
      "Rainy Cool Normal f\n",
      "for yes 0.7259259259259259\n",
      "for no 0.11760000000000001\n",
      "they will play\n",
      "Sunny Mild Normal f\n",
      "for yes 0.9679012345679012\n",
      "for no 0.10453333333333337\n",
      "they will play\n",
      "Rainy Mild Normal t\n",
      "for yes 0.43017832647462273\n",
      "for no 0.3136\n",
      "they will play\n",
      "Overcast Mild High t\n",
      "for yes 0.5377229080932785\n",
      "for no 0.0\n",
      "they will play\n",
      "Overcast Hot Normal f\n",
      "for yes 1.2098765432098766\n",
      "for no 0.0\n",
      "they will play\n",
      "Sunny Mild High t\n",
      "for yes 0.3226337448559671\n",
      "for no 0.836266666666667\n",
      "they won't play\n",
      "accuracy is  92.85714285714286\n"
     ]
    }
   ],
   "source": [
    "final = predict(X)\n",
    "acc = (sum(final==y)/len(final))*100\n",
    "print(\"accuracy is \",acc)"
   ]
  },
  {
   "cell_type": "code",
   "execution_count": null,
   "metadata": {},
   "outputs": [],
   "source": []
  }
 ],
 "metadata": {
  "interpreter": {
   "hash": "aee8b7b246df8f9039afb4144a1f6fd8d2ca17a180786b69acc140d282b71a49"
  },
  "kernelspec": {
   "display_name": "Python 3.10.0 64-bit",
   "language": "python",
   "name": "python3"
  },
  "language_info": {
   "codemirror_mode": {
    "name": "ipython",
    "version": 3
   },
   "file_extension": ".py",
   "mimetype": "text/x-python",
   "name": "python",
   "nbconvert_exporter": "python",
   "pygments_lexer": "ipython3",
   "version": "3.10.0"
  },
  "orig_nbformat": 4
 },
 "nbformat": 4,
 "nbformat_minor": 2
}
